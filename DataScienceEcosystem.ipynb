{
 "cells": [
  {
   "cell_type": "markdown",
   "id": "32d6da3b-8fcd-46eb-81bf-99f48b0dfdef",
   "metadata": {},
   "source": [
    "# Data Science Tools and Ecosystem\n"
   ]
  },
  {
   "cell_type": "markdown",
   "id": "d842a845-1d2b-4d01-b722-102f9d7d2cfd",
   "metadata": {},
   "source": [
    "In this notebook, Data Science Tools and Ecosystem are summarized."
   ]
  },
  {
   "cell_type": "markdown",
   "id": "e3c7f6e0-e978-4962-9453-361f905aebbf",
   "metadata": {},
   "source": [
    "**Objectives:** \n",
    "- List Popular Languages in Data Science\n",
    "- List Popular Libraries in Data Science\n",
    "- List Data Science Tools\n"
   ]
  },
  {
   "cell_type": "markdown",
   "id": "0796dc2b-ff14-4f4b-b596-506de1304e0a",
   "metadata": {},
   "source": [
    "Some of the popular languages that Data Scientists use are:\n",
    "1. Python\n",
    "2. R\n",
    "3. SQL"
   ]
  },
  {
   "cell_type": "markdown",
   "id": "a30b01f0-9377-4ff7-828f-b6f8cba2f83c",
   "metadata": {},
   "source": [
    "Some of the commonly used libraries used by Data Scientists include:\n",
    "1. pandas\n",
    "2. TensorFlow\n",
    "3. ggplot"
   ]
  },
  {
   "cell_type": "markdown",
   "id": "ca4134aa-ffc3-4c28-8e2e-5e8d520d3309",
   "metadata": {},
   "source": [
    "| Data Science Tools |\n",
    "| --- |\n",
    "| Visual Studio Code |\n",
    "| RStudio |\n",
    "| Spyder |"
   ]
  },
  {
   "cell_type": "markdown",
   "id": "6c9fa556-449f-4ebe-862d-f206ca57be2e",
   "metadata": {},
   "source": [
    "### Below are a few examples of evaluating arithmetic expressions in Python"
   ]
  },
  {
   "cell_type": "code",
   "execution_count": 4,
   "id": "e3c207ea-0965-4add-8955-02c3e82ce036",
   "metadata": {},
   "outputs": [
    {
     "data": {
      "text/plain": [
       "17"
      ]
     },
     "execution_count": 4,
     "metadata": {},
     "output_type": "execute_result"
    }
   ],
   "source": [
    " # This a simple arithmetic expression to multiply then add integers\n",
    "(3*4)+5\n"
   ]
  },
  {
   "cell_type": "code",
   "execution_count": 5,
   "id": "d42e60fa-4c47-40b2-8653-22ede071f344",
   "metadata": {},
   "outputs": [
    {
     "data": {
      "text/plain": [
       "3.3333333333333335"
      ]
     },
     "execution_count": 5,
     "metadata": {},
     "output_type": "execute_result"
    }
   ],
   "source": [
    "#This will convert 200 minutes to hours by diving by 60.\n",
    "200/60"
   ]
  },
  {
   "cell_type": "markdown",
   "id": "be248a81-ab6b-4a25-aa35-d5f1534b43fd",
   "metadata": {},
   "source": [
    "## Author\n",
    "Pedro"
   ]
  }
 ],
 "metadata": {
  "kernelspec": {
   "display_name": "Python 3 (ipykernel)",
   "language": "python",
   "name": "python3"
  },
  "language_info": {
   "codemirror_mode": {
    "name": "ipython",
    "version": 3
   },
   "file_extension": ".py",
   "mimetype": "text/x-python",
   "name": "python",
   "nbconvert_exporter": "python",
   "pygments_lexer": "ipython3",
   "version": "3.11.9"
  }
 },
 "nbformat": 4,
 "nbformat_minor": 5
}
